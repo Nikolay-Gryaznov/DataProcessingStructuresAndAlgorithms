{
 "cells": [
  {
   "cell_type": "markdown",
   "id": "d221b33a",
   "metadata": {},
   "source": [
    "# Лабораторная работа №3\n",
    "## Выполнил студент группы БВТ2003 ГрязновНиколайАлександрович"
   ]
  },
  {
   "cell_type": "markdown",
   "id": "37e1d8c7",
   "metadata": {},
   "source": [
    "### Задание №1"
   ]
  },
  {
   "cell_type": "code",
   "execution_count": 1,
   "id": "10cab134",
   "metadata": {
    "scrolled": false
   },
   "outputs": [
    {
     "name": "stdout",
     "output_type": "stream",
     "text": [
      "asdfgdfasdfoadfgadfzxcv\n",
      "o\n"
     ]
    }
   ],
   "source": [
    "import timeit\n",
    "string = input()\n",
    "sub_str = input()"
   ]
  },
  {
   "cell_type": "markdown",
   "id": "b769f992",
   "metadata": {},
   "source": [
    "### Задание №1.1 (Алгоритм Кнута-Морриса-Пратта)"
   ]
  },
  {
   "cell_type": "code",
   "execution_count": 3,
   "id": "9d2c3f7e",
   "metadata": {},
   "outputs": [
    {
     "name": "stdout",
     "output_type": "stream",
     "text": [
      "11\n",
      "--- 0.3722000000010439 ms ---\n",
      "11\n",
      "--- 0.20100000000411455 ms ---\n"
     ]
    }
   ],
   "source": [
    "def prefix_function(string):\n",
    "    n = len(string)\n",
    "    pi_arr = [0] * n\n",
    "    for i in range(1,n):\n",
    "        j = pi_arr[i-1]\n",
    "        while j>0 and string[j] != string[i]:\n",
    "            j = pi_arr[j-1]\n",
    "        if string[i] == string[j]:\n",
    "            j+= 1\n",
    "        pi_arr[i] = j\n",
    "    return pi_arr\n",
    "\n",
    "def kmp_search(string, sub_str):\n",
    "    start_index=0\n",
    "    j = 0\n",
    "    pi_arr = prefix_function(sub_str)\n",
    "    for i in range(start_index, len(string)):\n",
    "        while j > 0 and string[i] != sub_str[j]:\n",
    "            j = pi_arr[j-1]\n",
    "        if string[i] == sub_str[j]:\n",
    "            j += 1\n",
    "        if j >= len(sub_str):\n",
    "            return i - j + 1\n",
    "    return None\n",
    "\n",
    "\n",
    "start_time = timeit.default_timer()\n",
    "print(kmp_search(string, sub_str))\n",
    "print(\"--- {0} ms ---\".format((timeit.default_timer() - start_time)*1000))\n",
    "start_time = timeit.default_timer()\n",
    "print(string.find(sub_str))\n",
    "print(\"--- {0} ms ---\".format((timeit.default_timer() - start_time)*1000))"
   ]
  },
  {
   "cell_type": "markdown",
   "id": "921230d5",
   "metadata": {},
   "source": [
    "### Задание №1.2 (Упрощенный алгоритм Бойера-Мура)"
   ]
  },
  {
   "cell_type": "code",
   "execution_count": 4,
   "id": "f959d6d6",
   "metadata": {
    "scrolled": true
   },
   "outputs": [
    {
     "name": "stdout",
     "output_type": "stream",
     "text": [
      "11\n",
      "--- 0.49580000001014923 ms ---\n",
      "11\n",
      "--- 0.16379999999571737 ms ---\n"
     ]
    }
   ],
   "source": [
    "def ascii_arr(sub_str):\n",
    "    arr = [len(sub_str) for i in range(256)]\n",
    "    inverted_sub_str = sub_str[::-1]\n",
    "\n",
    "    for i in range(len(inverted_sub_str)):\n",
    "        if arr[ord(inverted_sub_str[i])] != len(inverted_sub_str):\n",
    "            continue\n",
    "        else:\n",
    "            arr[ord(inverted_sub_str[i])] = i\n",
    "    return arr\n",
    "\n",
    "\n",
    "def boyer_mur_search(string, sub_str):\n",
    "    arr = ascii_arr(sub_str)\n",
    "    len_sub_str = x = j = k = len(sub_str)\n",
    "    counter = 0\n",
    "\n",
    "    while x <= len(string) and j > 0:\n",
    "        if sub_str[j - 1] == string[k - 1]:\n",
    "            j -= 1\n",
    "            k -= 1\n",
    "        else:\n",
    "            x += arr[ord(string[k - 1])]\n",
    "            k = x\n",
    "            j = len_sub_str\n",
    "            counter += 1\n",
    "\n",
    "    if j <= 0:\n",
    "        return k\n",
    "    else:\n",
    "        return -1\n",
    "\n",
    "\n",
    "start_time = timeit.default_timer()\n",
    "print(boyer_mur_search(string, sub_str))\n",
    "print(\"--- {0} ms ---\".format((timeit.default_timer() - start_time) * 1000))\n",
    "start_time = timeit.default_timer()\n",
    "print(string.find(sub_str))\n",
    "print(\"--- {0} ms ---\".format((timeit.default_timer() - start_time) * 1000))"
   ]
  },
  {
   "cell_type": "markdown",
   "id": "26f4a56f",
   "metadata": {},
   "source": [
    "### Задание №2"
   ]
  },
  {
   "cell_type": "markdown",
   "id": "1c397c96",
   "metadata": {},
   "source": [
    "Написать программу, определяющую, является ли данное\n",
    "расположение «решаемым», то есть можно ли из него за конечное число\n",
    "шагов перейти к правильному. Если это возможно, то необходимо найти хотя\n",
    "бы одно решение - последовательность движений, после которой числа будут\n",
    "расположены в правильном порядке.\n",
    "#### Входные данные: массив чисел, представляющий собой расстановку в\n",
    "Порядке «слева направо, сверху вниз». Число 0 обозначает пустое поле.\n",
    "Например, массив [1, 2, 3, 4, 5, 6, 7, 8, 9, 10, 11, 12, 13, 14, 15, 0] представляет\n",
    "собой «решенную» позицию элементов.\n",
    "#### Выходные данные: если решения нет, то функция должна вернуть\n",
    "Пустой массив []. Если решение есть, то необходимо представить решение —\n",
    "для каждого шага записывается номер передвигаемого на данном шаге\n",
    "элемента. "
   ]
  },
  {
   "cell_type": "code",
   "execution_count": 14,
   "id": "47f41fed",
   "metadata": {
    "scrolled": false
   },
   "outputs": [
    {
     "name": "stdout",
     "output_type": "stream",
     "text": [
      "3\n",
      "1 2 3 4 \n",
      "5 6 7 8 \n",
      "9 10 11 12 \n",
      "0 13 14 15 \n",
      "\n",
      "-----------\n",
      "1 2 3 4 \n",
      "5 6 7 8 \n",
      "9 10 11 12 \n",
      "13 0 14 15 \n",
      "\n",
      "-----------\n",
      "1 2 3 4 \n",
      "5 6 7 8 \n",
      "9 10 11 12 \n",
      "13 14 0 15 \n",
      "\n",
      "-----------\n",
      "1 2 3 4 \n",
      "5 6 7 8 \n",
      "9 10 11 12 \n",
      "13 14 15 0 \n",
      "\n"
     ]
    }
   ],
   "source": [
    "from math import sqrt\n",
    "from heapq import heappop, heappush\n",
    "\n",
    "\n",
    "# Вычислим манхеттенское расстояние между а и b\n",
    "def manh_dst_matrix(a, b, n):\n",
    "    return abs(a % n - b % n) + abs(a // n - b // n)\n",
    "\n",
    "\n",
    "# Класс реализации пятнашек в виде графа\n",
    "class chain15:\n",
    "    def __str__(self):\n",
    "        i = 0\n",
    "        sstr = \"\"\n",
    "        while i < self.size ** 2:\n",
    "            sstr += str(self.board_state[i]) + \" \"\n",
    "            if i % self.size == 3:\n",
    "                sstr += \"\\n\"\n",
    "            i += 1\n",
    "        return sstr\n",
    "\n",
    "    # Инициализация класса\n",
    "    def __init__(self, board_state, history=[]):\n",
    "        self.board_state = list(board_state)  # начальное положение костяшек\n",
    "        self.size = int(sqrt(len(board_state)))  # 4 сторона поля\n",
    "        self.history = history\n",
    "        self.quad_size = int(self.size * self.size)  # 16- размер поля 4*4\n",
    "\n",
    "    # Расчет по манхеттенского расстояния\n",
    "    def manh_dst(self):\n",
    "        dst = 0\n",
    "        for i in range(0, self.quad_size):\n",
    "            # Вычисли сумму рассояний всех фишек\n",
    "            # Для каждой фишки вычислим расстояние от нее до ее конечной позициии\n",
    "            dst += manh_dst_matrix((self.board_state[i] - 1) % self.quad_size, i, self.size)\n",
    "        return int(dst)\n",
    "\n",
    "    def last_node(self): return \" \".join(map(str, self.board_state))\n",
    "\n",
    "        # Линейный конфликте по строке между I и J, если они в своей строке,\n",
    "        # но I левее J, хотя на самом деле должна быть справа\n",
    "\n",
    "    def linear_conflict(self):\n",
    "        conflict_count = 0\n",
    "        return 2 * conflict_count\n",
    "\n",
    "    def last_move(self):\n",
    "        if self.board_state[-1] == self.quad_size - 1 or self.board_state[-1] == self.quad_size - self.size:\n",
    "            return 0\n",
    "        return 2\n",
    "\n",
    "    # Расстояние от текущей вершины до терминальной H\n",
    "    # Расчет по манеттенскому раастоянию\n",
    "    def h(self):\n",
    "        return self.manh_dst() + self.last_move()\n",
    "\n",
    "    # Расстояние от начальной вершины до текущей G\n",
    "    def g(self):\n",
    "        return len(self.history)\n",
    "\n",
    "    # Вычисляем вес вершины F = G + H\n",
    "    def f(self):\n",
    "        return self.h() + self.g()\n",
    "\n",
    "    # Для сравнения эвристик для каждой цепочки решений использую очередь с приоритетами,\n",
    "    # для работы очереди перегружаю оператор\n",
    "    def __lt__(self, other):\n",
    "        return self.f() < other.f()\n",
    "\n",
    "    def get_neighbours(self):\n",
    "        neighs = []\n",
    "        zero_coord = self.board_state.index(0)\n",
    "\n",
    "        if zero_coord + 1 < self.size ** 2 and manh_dst_matrix(zero_coord, zero_coord + 1, self.size) == 1:\n",
    "            new_state = self.board_state.copy()\n",
    "            new_state[zero_coord], new_state[zero_coord + 1] = new_state[zero_coord + 1], new_state[zero_coord]\n",
    "            neighs.append(chain15(new_state, self.history + [self]))\n",
    "\n",
    "        if zero_coord - 1 >= 0 and manh_dst_matrix(zero_coord, zero_coord - 1, self.size) == 1:\n",
    "            new_state = self.board_state.copy()\n",
    "            new_state[zero_coord], new_state[zero_coord - 1] = new_state[zero_coord - 1], new_state[zero_coord]\n",
    "            neighs.append(chain15(new_state, self.history + [self]))\n",
    "\n",
    "        if zero_coord + self.size < self.size ** 2 and manh_dst_matrix(zero_coord, zero_coord + self.size,\n",
    "                                                                       self.size) == 1:\n",
    "            new_state = self.board_state.copy()\n",
    "            new_state[zero_coord], new_state[zero_coord + self.size] = new_state[zero_coord + self.size], new_state[\n",
    "                zero_coord]\n",
    "            neighs.append(chain15(new_state, self.history + [self]))\n",
    "\n",
    "        if zero_coord - self.size >= 0 and manh_dst_matrix(zero_coord, zero_coord - self.size, self.size) == 1:\n",
    "            new_state = self.board_state.copy()\n",
    "            new_state[zero_coord], new_state[zero_coord - self.size] = new_state[zero_coord - self.size], new_state[\n",
    "                zero_coord]\n",
    "            neighs.append(chain15(new_state, self.history + [self]))\n",
    "\n",
    "        return neighs\n",
    "\n",
    "\n",
    "############\n",
    "# Алгоритм A* поиска на графе.\n",
    "# Вершинами графа являются состояния поля, полученные в результате перемещения костяшек\n",
    "# Поиск решения сводится к поиску терминального состояния игрового поля\n",
    "def a_star(start_chain, goal_node):\n",
    "    node_hash = {}\n",
    "    chains_queue = []\n",
    "    heappush(chains_queue, start_chain)\n",
    "\n",
    "    while chains_queue:\n",
    "        cur_chain = heappop(chains_queue)\n",
    "        cur_node = cur_chain.last_node()\n",
    "        if cur_node == goal_node:\n",
    "            return cur_chain  # Успех, нашли конечный узел\n",
    "\n",
    "        node_hash[cur_node] = cur_chain.g()\n",
    "        for chain in cur_chain.get_neighbours():\n",
    "            if chain.last_node() in node_hash:\n",
    "                if chain.g() >= node_hash[chain.last_node()]:\n",
    "                    continue\n",
    "                node_hash[chain.last_node()] = chain.g()\n",
    "            heappush(chains_queue, chain)\n",
    "\n",
    "    raise Exception(\"No solution\")\n",
    "\n",
    "\n",
    "# Проверка на существование решения игры пятнашки\n",
    "# Вход- список с заданной комбинацией\n",
    "# Результат- логическое значение= Истинно/Ложно\n",
    "def validCombinaion(a):\n",
    "    N = 0;\n",
    "    # решение существует тогда и только тогда, когда (N + K) mod 2 == 0\n",
    "    # 1 N-количество инверсий(кол-во элементов a_i и a_j, при i < j, a_i > a_j)\n",
    "    for i in range(len(a)):\n",
    "        if a[i] > 0:\n",
    "            for j in range(0, i, 1):\n",
    "                if a[j] > a[i]: N = N + 1\n",
    "    # 2 K—номер строки, в которой находится пустой элемент (K = (z-1)\\ {\\rm div}\\ 4 + 1).\n",
    "    K = 0\n",
    "    for i in range(len(a)):\n",
    "        if a[i] == 0: K = int(1 + i / 4)\n",
    "    # решение существует тогда и только тогда, когда (N + K) mod 2 == 0\n",
    "    rez = ((N + K) % 2) == 0\n",
    "    return rez\n",
    "\n",
    "\n",
    "##################\n",
    "# начало программы\n",
    "board_str = \n",
    "'1 2 3 4 \n",
    "5 6 7 8 \n",
    "9 10 11 12 \n",
    "0 13 14 15'\n",
    "\n",
    "start_state = list(map(int, board_str.split()))\n",
    "# заданная комбинация, list\n",
    "start = chain15(start_state)\n",
    "# комбинация являющаяся нашей целью\n",
    "end = chain15((1, 2, 3, 4, 5, 6, 7, 8, 9, 10, 11, 12, 13, 14, 15, 0))\n",
    "\n",
    "if validCombinaion(start_state):\n",
    "    # решения существует, находим его, алгоритм a_star\n",
    "    result = a_star(start, end.last_node())\n",
    "    print(str(len(result.history)))\n",
    "    for node in result.history:\n",
    "        print(str(node))\n",
    "        print(\"-----------\")\n",
    "    print(str(result))\n",
    "\n",
    "else:\n",
    "    print(\"[]\")  # решения не существует"
   ]
  },
  {
   "cell_type": "markdown",
   "id": "a4ab5bd5",
   "metadata": {},
   "source": [
    "### Вывод"
   ]
  },
  {
   "cell_type": "markdown",
   "id": "b84f88b3",
   "metadata": {},
   "source": [
    "#### Сравнил время работы упрощенного алгоритма Бойера-Мура и aлгоритма Кнута-Морриса-Пратта с обычной функцией поиска подстроки в строке, оказалось что поледняя оказалась быстрее остальных.\n",
    "#### Написал игру Пятнашки."
   ]
  }
 ],
 "metadata": {
  "kernelspec": {
   "display_name": "Python 3 (ipykernel)",
   "language": "python",
   "name": "python3"
  },
  "language_info": {
   "codemirror_mode": {
    "name": "ipython",
    "version": 3
   },
   "file_extension": ".py",
   "mimetype": "text/x-python",
   "name": "python",
   "nbconvert_exporter": "python",
   "pygments_lexer": "ipython3",
   "version": "3.9.7"
  }
 },
 "nbformat": 4,
 "nbformat_minor": 5
}
