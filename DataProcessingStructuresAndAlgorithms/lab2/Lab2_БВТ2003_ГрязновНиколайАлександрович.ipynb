{
 "cells": [
  {
   "cell_type": "markdown",
   "id": "9d0f173b",
   "metadata": {},
   "source": [
    "# Лабораторная работа №2\n",
    "## Выполнил студент группы БВТ2003 ГрязновНиколайАлександрович"
   ]
  },
  {
   "cell_type": "markdown",
   "id": "6573f8b8",
   "metadata": {},
   "source": [
    "### Задание №1"
   ]
  },
  {
   "cell_type": "code",
   "execution_count": 1,
   "id": "03f47c75",
   "metadata": {
    "scrolled": false
   },
   "outputs": [],
   "source": [
    "import random\n",
    "import timeit\n",
    "m = 1000\n",
    "min_lim = 0\n",
    "max_lim = 1000\n",
    "value = 123\n",
    "\n",
    "A = [ 0 for i in range(m) ]\n",
    "for i in range(m):\n",
    "    A[i] = random.randint(min_lim, max_lim)\n",
    "        \n",
    "A.sort()"
   ]
  },
  {
   "cell_type": "markdown",
   "id": "9a4cbbc5",
   "metadata": {},
   "source": [
    "### Задание №1.1 (Бинарный поиск)"
   ]
  },
  {
   "cell_type": "code",
   "execution_count": 2,
   "id": "c0f51ab5",
   "metadata": {
    "scrolled": true
   },
   "outputs": [
    {
     "name": "stdout",
     "output_type": "stream",
     "text": [
      "134\n",
      "--- 0.40719999999794254 ms ---\n",
      "134\n",
      "--- 0.20979999999326537 ms ---\n"
     ]
    }
   ],
   "source": [
    "def binary_search(A, value):\n",
    "    left = 0\n",
    "    right = len(A)\n",
    "\n",
    "    while left <= right:\n",
    "        mid = (left + right) // 2\n",
    "\n",
    "        if value == A[mid]:\n",
    "            return mid\n",
    "\n",
    "        if value < A[mid]:\n",
    "            right = mid - 1\n",
    "        else:\n",
    "            left = mid + 1\n",
    "    return -1\n",
    "    \n",
    "def binary_delete(A, value):\n",
    "    left = A[:bin_search(A, value)]\n",
    "    right = A[bin_search(A, value)+1:]\n",
    "    return left + right\n",
    "\n",
    "def binary_add(A, value):\n",
    "    left = 0\n",
    "    right = len(A)\n",
    "\n",
    "    while (left <= right):\n",
    "        mid = (left + right) // 2\n",
    "\n",
    "        if (value < A[mid]) and (value > A[mid-1]):\n",
    "            a = A[:mid]\n",
    "            a.append(value)\n",
    "            return a + A[mid:]\n",
    "\n",
    "        if value < A[mid]:\n",
    "            end = mid - 1\n",
    "        else:\n",
    "            start = mid + 1\n",
    "            \n",
    "start_time = timeit.default_timer()\n",
    "print(binary_search(A, value))\n",
    "print(\"--- {0} ms ---\".format((timeit.default_timer() - start_time)*1000))\n",
    "start_time = timeit.default_timer()\n",
    "try:\n",
    "    print(A.index(value))\n",
    "except ValueError:\n",
    "    print(-1)\n",
    "print(\"--- {0} ms ---\".format((timeit.default_timer() - start_time)*1000))"
   ]
  },
  {
   "cell_type": "markdown",
   "id": "6f85cc56",
   "metadata": {},
   "source": [
    "### Задание №1.2 (Бинарное дерево)"
   ]
  },
  {
   "cell_type": "code",
   "execution_count": 3,
   "id": "1bcc0b51",
   "metadata": {},
   "outputs": [
    {
     "name": "stdout",
     "output_type": "stream",
     "text": [
      "True\n",
      "--- 0.8964000000020178 ms ---\n",
      "134\n",
      "--- 0.14429999998810672 ms ---\n"
     ]
    }
   ],
   "source": [
    "class Binary_Tree:\n",
    "\n",
    "    def __init__(self, data):\n",
    "\n",
    "        self.left = None\n",
    "        self.right = None\n",
    "        self.data = data\n",
    "\n",
    "    def tree_add(self, data):\n",
    "        if self.data:\n",
    "            if data < self.data:\n",
    "                if self.left is None:\n",
    "                    self.left = Binary_Tree(data)\n",
    "                else:\n",
    "                    self.left.tree_add(data)\n",
    "            elif data > self.data:\n",
    "                if self.right is None:\n",
    "                    self.right = Binary_Tree(data)\n",
    "                else:\n",
    "                    self.right.tree_add(data)\n",
    "        else:\n",
    "            self.data = data\n",
    "\n",
    "    def tree_search(self, value):\n",
    "        if value < self.data:\n",
    "            if self.left is None:\n",
    "                return False\n",
    "            return self.left.tree_search(value)\n",
    "        elif value > self.data:\n",
    "            if self.right is None:\n",
    "                return False\n",
    "            return self.right.tree_search(value)\n",
    "        else:\n",
    "            return True\n",
    "        \n",
    "tree = Binary_Tree(random.randint(min_lim, max_lim))\n",
    "for a in A:\n",
    "    tree.tree_add(a)\n",
    "\n",
    "start_time = timeit.default_timer()\n",
    "print(tree.tree_search(value))\n",
    "print(\"--- {0} ms ---\".format((timeit.default_timer() - start_time)*1000))\n",
    "start_time = timeit.default_timer()\n",
    "try:\n",
    "    print(A.index(value))\n",
    "except ValueError:\n",
    "    print(-1)\n",
    "print(\"--- {0} ms ---\".format((timeit.default_timer() - start_time)*1000))"
   ]
  },
  {
   "cell_type": "markdown",
   "id": "c601a3c6",
   "metadata": {},
   "source": [
    "### Задание №1.3 (Фибоначчиев)"
   ]
  },
  {
   "cell_type": "code",
   "execution_count": 4,
   "id": "2c0e7301",
   "metadata": {
    "scrolled": true
   },
   "outputs": [
    {
     "name": "stdout",
     "output_type": "stream",
     "text": [
      "134\n",
      "--- 0.536700000012047 ms ---\n",
      "134\n",
      "--- 0.20489999999995234 ms ---\n"
     ]
    }
   ],
   "source": [
    "def fibonacci_search(A, value):\n",
    "    fib_previous_2 = 0\n",
    "    fib_previous_1 = 1\n",
    "    fib_current = fib_previous_1 + fib_previous_2\n",
    "    while (fib_current < len(A)):\n",
    "        fib_previous_2 = fib_previous_1\n",
    "        fib_previous_1 = fib_current\n",
    "        fib_current = fib_previous_1 + fib_previous_2\n",
    "    index = -1;\n",
    "    while (fib_current > 1):\n",
    "        i = min(index + fib_previous_2, (len(A)-1))\n",
    "        if (A[i] < value):\n",
    "            fib_current = fib_previous_1\n",
    "            fib_previous_1 = fib_previous_2\n",
    "            fib_previous_2 = fib_current - fib_previous_1\n",
    "            index = i\n",
    "        elif (A[i] > value):\n",
    "            fib_current = fib_previous_2\n",
    "            fib_previous_1 = fib_previous_1 - fib_previous_2\n",
    "            fib_previous_2 = fib_current - fib_previous_1\n",
    "        else :\n",
    "            return i\n",
    "    if(fib_previous_1 and index < (len(A)-1) and A[index+1] == value):\n",
    "        return index+1;\n",
    "    return -1\n",
    "\n",
    "start_time = timeit.default_timer()\n",
    "print(fibonacci_search(A, value))\n",
    "print(\"--- {0} ms ---\".format((timeit.default_timer() - start_time)*1000))\n",
    "start_time = timeit.default_timer()\n",
    "try:\n",
    "    print(A.index(value))\n",
    "except ValueError:\n",
    "    print(-1)\n",
    "print(\"--- {0} ms ---\".format((timeit.default_timer() - start_time)*1000))"
   ]
  },
  {
   "cell_type": "markdown",
   "id": "6d20416a",
   "metadata": {},
   "source": [
    "### Задание №1.4 (Интерполяционный)"
   ]
  },
  {
   "cell_type": "code",
   "execution_count": 5,
   "id": "72bbde1a",
   "metadata": {},
   "outputs": [
    {
     "name": "stdout",
     "output_type": "stream",
     "text": [
      "134\n",
      "--- 0.6757999999962294 ms ---\n",
      "134\n",
      "--- 0.17210000000034142 ms ---\n"
     ]
    }
   ],
   "source": [
    "def interpolation_search(A, value):\n",
    "    low = 0\n",
    "    high = (len(A) - 1)\n",
    "    while low <= high and value >= A[low] and value <= A[high]:\n",
    "        index = low + int(((float(high - low) / ( A[high] - A[low])) * ( value - A[low])))\n",
    "        if A[index] == value:\n",
    "            return index\n",
    "        if A[index] < value:\n",
    "            low = index + 1;\n",
    "        else:\n",
    "            high = index - 1;\n",
    "    return -1\n",
    "\n",
    "start_time = timeit.default_timer()\n",
    "print(interpolation_search(A,value))\n",
    "print(\"--- {0} ms ---\".format((timeit.default_timer() - start_time)*1000))\n",
    "start_time = timeit.default_timer()\n",
    "try:\n",
    "    print(A.index(value))\n",
    "except ValueError:\n",
    "    print(-1)\n",
    "print(\"--- {0} ms ---\".format((timeit.default_timer() - start_time)*1000))"
   ]
  },
  {
   "cell_type": "markdown",
   "id": "3166ce45",
   "metadata": {},
   "source": [
    "### Задание №2"
   ]
  },
  {
   "cell_type": "code",
   "execution_count": 6,
   "id": "a7ee9280",
   "metadata": {},
   "outputs": [],
   "source": [
    "values = ['dog', 'cat', 'parrot', 'hamster', 'mouse', 'horse', 'pig']"
   ]
  },
  {
   "cell_type": "markdown",
   "id": "5054f1e1",
   "metadata": {},
   "source": [
    "### Задание №2.1 (Простое рехэширование)"
   ]
  },
  {
   "cell_type": "code",
   "execution_count": 7,
   "id": "7091d2f5",
   "metadata": {},
   "outputs": [
    {
     "name": "stdout",
     "output_type": "stream",
     "text": [
      "6 dog\n",
      "4 cat\n",
      "2 parrot\n",
      "7 hamster\n",
      "0 mouse\n",
      "5 horse\n",
      "8 pig\n",
      "\n",
      "6 dog\n",
      "4 cat\n",
      "2 parrot\n",
      "7 hamster\n",
      "0 mouse\n",
      "5 horse\n",
      "8 pig\n",
      "9 bull\n",
      "3 turkey\n",
      "\n",
      "bull exists\n"
     ]
    }
   ],
   "source": [
    "class Hash_class:\n",
    "    keys = []\n",
    "    hashes = []\n",
    "\n",
    "    def __init__(self, arr):\n",
    "        self.add_array(arr)\n",
    "\n",
    "    def add_key(self, item, length=None):\n",
    "        if (length == None):\n",
    "            length = len(self.keys)\n",
    "\n",
    "        self.check_key_exists(item)\n",
    "        temp = hash(item) % length\n",
    "\n",
    "        if self.check(temp):\n",
    "            temp = self.rehash(item, length)\n",
    "\n",
    "        self.hashes.append(temp)\n",
    "        self.keys.append(item)\n",
    "\n",
    "    def print_hashes(self):\n",
    "        for i in range(len(self.keys)):\n",
    "            print(self.hashes[i], self.keys[i])\n",
    "        print()\n",
    "\n",
    "    def add_array(self, arr):\n",
    "        for item in arr:\n",
    "            self.add_key(item, len(arr))\n",
    "\n",
    "    def rehash(self, key, length):\n",
    "        i = 1\n",
    "        while True:\n",
    "            temp = hash(key) % length + i\n",
    "            if not self.check(temp):\n",
    "                return temp\n",
    "            i = i + 1\n",
    "\n",
    "    def check(self, hash_value):\n",
    "        return hash_value in self.hashes\n",
    "\n",
    "    def check_key_exists(self, key):\n",
    "        if key in self.keys:\n",
    "            print(key + \" exists\")\n",
    "\n",
    "hashes = Hash_class(arr=values)\n",
    "\n",
    "hashes.print_hashes()\n",
    "hashes.add_key('bull')\n",
    "hashes.add_key('turkey')\n",
    "hashes.print_hashes()\n",
    "hashes.add_key('bull')"
   ]
  },
  {
   "cell_type": "markdown",
   "id": "5dc7c6c9",
   "metadata": {},
   "source": [
    "### Задание №2.2 (Рехэширование с помощью псевдослучайных чисел)"
   ]
  },
  {
   "cell_type": "code",
   "execution_count": 8,
   "id": "9b2f674f",
   "metadata": {},
   "outputs": [
    {
     "name": "stdout",
     "output_type": "stream",
     "text": [
      "6 dog\n",
      "4 cat\n",
      "2 parrot\n",
      "15 hamster\n",
      "0 mouse\n",
      "5 horse\n",
      "8 pig\n",
      "\n",
      "6 dog\n",
      "4 cat\n",
      "2 parrot\n",
      "15 hamster\n",
      "0 mouse\n",
      "5 horse\n",
      "8 pig\n",
      "13 bull\n",
      "10 turkey\n",
      "\n",
      "bull exists\n"
     ]
    }
   ],
   "source": [
    "import random\n",
    "\n",
    "\n",
    "class Hash_class:\n",
    "    keys = []\n",
    "    hashes = []\n",
    "\n",
    "    def __init__(self, arr):\n",
    "        self.add_array(arr)\n",
    "\n",
    "    def add_key(self, item, length=None):\n",
    "        if (length == None):\n",
    "            length = len(self.keys)\n",
    "\n",
    "        self.check_key_exists(item)\n",
    "        temp = hash(item) % length\n",
    "\n",
    "        if self.check(temp):\n",
    "            temp = self.rand_rehash(item, length)\n",
    "\n",
    "        self.hashes.append(temp)\n",
    "        self.keys.append(item)\n",
    "\n",
    "    def print_hashes(self):\n",
    "        for i in range(len(self.keys)):\n",
    "            print(self.hashes[i], self.keys[i])\n",
    "        print()\n",
    "\n",
    "    def add_array(self, arr):\n",
    "        for item in arr:\n",
    "            self.add_key(item, len(arr))\n",
    "\n",
    "    def rand_rehash(self, key, length):\n",
    "        possible_values = [i for i in range(length * 2)]\n",
    "        random.shuffle(possible_values)\n",
    "        while True:\n",
    "            i = possible_values.pop()\n",
    "            temp = hash(key) % length + i\n",
    "            if not self.check(temp):\n",
    "                return temp\n",
    "\n",
    "    def check(self, hash_value):\n",
    "        return hash_value in self.hashes\n",
    "\n",
    "    def check_key_exists(self, key):\n",
    "        if key in self.keys:\n",
    "            print(key + \" exists\")\n",
    "\n",
    "hashes = Hash_class(arr=values)\n",
    "\n",
    "hashes.print_hashes()\n",
    "hashes.add_key('bull')\n",
    "hashes.add_key('turkey')\n",
    "hashes.print_hashes()\n",
    "hashes.add_key('bull')"
   ]
  },
  {
   "cell_type": "markdown",
   "id": "5e1be52a",
   "metadata": {},
   "source": [
    "### Задание №2.3 (Рехэширование с помощью псевдослучайных чисел)"
   ]
  },
  {
   "cell_type": "code",
   "execution_count": 9,
   "id": "eebf7780",
   "metadata": {
    "scrolled": false
   },
   "outputs": [
    {
     "name": "stdout",
     "output_type": "stream",
     "text": [
      "Index \t\tValues\n",
      "\n",
      "0\t\tmouse\n",
      "1\t\tNone\n",
      "2\t\tparrot\n",
      "3\t\tNone\n",
      "4\t\tcat\n",
      "5\t\thorse --->  pig\n",
      "6\t\tdog --->  hamster\n",
      "\n",
      "Index \t\tValues\n",
      "\n",
      "0\t\tmouse --->  turkey\n",
      "1\t\tNone\n",
      "2\t\tparrot\n",
      "3\t\tNone\n",
      "4\t\tcat --->  bull\n",
      "5\t\thorse --->  pig\n",
      "6\t\tdog --->  hamster\n"
     ]
    }
   ],
   "source": [
    "import numpy as np\n",
    "\n",
    "\n",
    "class Node:\n",
    "\n",
    "    def __init__(self, value):\n",
    "        self.value = value\n",
    "        self.next = None\n",
    "\n",
    "\n",
    "class Linked_List:\n",
    "\n",
    "    def __init__(self):\n",
    "        self.head = None\n",
    "\n",
    "    def insert(self, value):\n",
    "        if not self.head:\n",
    "            self.head = Node(value)\n",
    "        else:\n",
    "            temp = self.head\n",
    "            while temp.next:\n",
    "                temp = temp.next\n",
    "            temp.next = Node(value)\n",
    "\n",
    "    def search(self, value):\n",
    "        temp = self.head\n",
    "        while temp:\n",
    "            if temp.value == value:\n",
    "                return True\n",
    "            temp = temp.next\n",
    "        return False\n",
    "\n",
    "    def print_LL(self):\n",
    "        temp = self.head\n",
    "        if not temp:\n",
    "            print(None)\n",
    "        while temp:\n",
    "            if temp.next:\n",
    "                print(temp.value, \"--->\", end=\"  \")\n",
    "            else:\n",
    "                print(temp.value)\n",
    "            temp = temp.next\n",
    "\n",
    "\n",
    "class Hash_table:\n",
    "\n",
    "    def __init__(self, arr):\n",
    "        self.size = len(arr)\n",
    "        self.hashtable = np.array([None] * self.size)\n",
    "        for x in range(self.size):\n",
    "            self.hashtable[x] = Linked_List()\n",
    "        self.add_arr(arr)\n",
    "\n",
    "    def hash(self, key):\n",
    "        return hash(key) % self.size\n",
    "\n",
    "    def add_key(self, key):\n",
    "        index = self.hash(key)\n",
    "        self.hashtable[index].insert(key)\n",
    "\n",
    "    def add_arr(self, arr):\n",
    "        for item in arr:\n",
    "            self.add_key(item)\n",
    "\n",
    "    def search_key(self, key):\n",
    "        index = self.hash(key)\n",
    "        boolean = self.hashtable[index].search(key)\n",
    "        return boolean\n",
    "\n",
    "    def print_table(self):\n",
    "        print(\"Index \\t\\tValues\\n\")\n",
    "        for x in range(self.size):\n",
    "            print(x, end=\"\\t\\t\")\n",
    "            self.hashtable[x].print_LL()\n",
    "\n",
    "hashes = Hash_table(arr=values)\n",
    "hashes.print_table()\n",
    "print()\n",
    "hashes.add_key('bull')\n",
    "hashes.add_key('turkey')\n",
    "hashes.print_table()"
   ]
  },
  {
   "cell_type": "markdown",
   "id": "6a1366b9",
   "metadata": {},
   "source": [
    "### Задание №3\n",
    "\n",
    "#### Расставить на стандартной 64-клеточной шахматной доске 8 ферзей так, чтобы ни один из них не находился под боем другого». Подразумевается, что ферзь бьёт все клетки, расположенные по вертикалям, горизонталям и обеим диагоналямНаписать программу,  которая находит хотя бы один способ решения задач."
   ]
  },
  {
   "cell_type": "code",
   "execution_count": 1,
   "id": "cc61e5d5",
   "metadata": {},
   "outputs": [
    {
     "name": "stdout",
     "output_type": "stream",
     "text": [
      "\n",
      "1 0 0 0 0 0 0 0 \n",
      "0 0 0 0 0 0 1 0 \n",
      "0 0 0 0 1 0 0 0 \n",
      "0 0 0 0 0 0 0 1 \n",
      "0 1 0 0 0 0 0 0 \n",
      "0 0 0 1 0 0 0 0 \n",
      "0 0 0 0 0 1 0 0 \n",
      "0 0 1 0 0 0 0 0 \n"
     ]
    }
   ],
   "source": [
    "board = [[0, 0, 0, 0, 0, 0, 0, 0],\n",
    "             [0, 0, 0, 0, 0, 0, 0, 0],\n",
    "             [0, 0, 0, 0, 0, 0, 0, 0],\n",
    "             [0, 0, 0, 0, 0, 0, 0, 0],\n",
    "             [0, 0, 0, 0, 0, 0, 0, 0],\n",
    "             [0, 0, 0, 0, 0, 0, 0, 0],\n",
    "             [0, 0, 0, 0, 0, 0, 0, 0],\n",
    "             [0, 0, 0, 0, 0, 0, 0, 0]]\n",
    "\n",
    "def result(board):\n",
    "    for i in range(8):\n",
    "        for j in range(8):\n",
    "            print(board[i][j], end=' ')\n",
    "        print()\n",
    "\n",
    "\n",
    "def is_safe(board, row, col):\n",
    "    for i in range(col):\n",
    "        if board[row][i] == 1:\n",
    "            return False\n",
    "\n",
    "    for i, j in zip(range(row, -1, -1), range(col, -1, -1)):\n",
    "        if board[i][j] == 1:\n",
    "            return False\n",
    "\n",
    "    for i, j in zip(range(row, 8, 1), range(col, -1, -1)):\n",
    "        if board[i][j] == 1:\n",
    "            return False\n",
    "\n",
    "    return True\n",
    "\n",
    "\n",
    "def solve(board, col):\n",
    "    if col >= 8:\n",
    "        return True\n",
    "\n",
    "    for i in range(8):\n",
    "\n",
    "        if is_safe(board, i, col):\n",
    "            board[i][col] = 1\n",
    "\n",
    "            if solve(board, col + 1):\n",
    "                return True\n",
    "\n",
    "            board[i][col] = 0\n",
    "\n",
    "    return False\n",
    "\n",
    "print()\n",
    "solve(board, 0)\n",
    "result(board)"
   ]
  },
  {
   "cell_type": "markdown",
   "id": "b9e1f46f",
   "metadata": {},
   "source": [
    "### Вывод"
   ]
  },
  {
   "cell_type": "markdown",
   "id": "664030ad",
   "metadata": {},
   "source": [
    "#### Сравнив \"Бинарный поиск\", \"Фибоначчиев\", \"Интерполяционный\" и поиск через \"Бинарное дерево\" с стандартной функцией поиска понял, что лишь в редких случаях один из написанных мной поисков оказвался быстрее, чем стандартный.\n",
    "\n",
    "#### Создал классы с хештаблицами,  в которых была различная реализация расхеширования"
   ]
  }
 ],
 "metadata": {
  "kernelspec": {
   "display_name": "Python 3 (ipykernel)",
   "language": "python",
   "name": "python3"
  },
  "language_info": {
   "codemirror_mode": {
    "name": "ipython",
    "version": 3
   },
   "file_extension": ".py",
   "mimetype": "text/x-python",
   "name": "python",
   "nbconvert_exporter": "python",
   "pygments_lexer": "ipython3",
   "version": "3.9.7"
  }
 },
 "nbformat": 4,
 "nbformat_minor": 5
}
