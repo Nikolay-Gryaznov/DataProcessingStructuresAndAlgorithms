{
 "cells": [
  {
   "cell_type": "markdown",
   "id": "e62bff5f",
   "metadata": {},
   "source": [
    "# Лабораторная работа №1\n",
    "## Выполнил студент группы БВТ2003 ГрязновНиколайАлександрович\n",
    "### Задание №1\n",
    "Создать ячейку и написать в ней print(\"Hello, World!\")"
   ]
  },
  {
   "cell_type": "code",
   "execution_count": 2,
   "id": "525ce176",
   "metadata": {},
   "outputs": [
    {
     "name": "stdout",
     "output_type": "stream",
     "text": [
      "Hello, World!\n"
     ]
    }
   ],
   "source": [
    "print(\"Hello, World!\")"
   ]
  },
  {
   "cell_type": "markdown",
   "id": "c32c7013",
   "metadata": {},
   "source": [
    "### Задание №2\n",
    "Написать генератор случайных матриц(многомерных), который принимает опциональные параметры m, n, min_limit, max_limit, где m и n указывают размер матрицы, а min_lim и max_lim - минимальное и максимальное значение для генерируемого числа."
   ]
  },
  {
   "cell_type": "code",
   "execution_count": 6,
   "id": "b233a88c",
   "metadata": {},
   "outputs": [],
   "source": [
    "import random"
   ]
  },
  {
   "cell_type": "code",
   "execution_count": null,
   "id": "6faa2307",
   "metadata": {},
   "outputs": [],
   "source": [
    "m=int(input())\n",
    "n=int(input())\n",
    "min_lim=int(input())\n",
    "max_lim=int(input())"
   ]
  },
  {
   "cell_type": "code",
   "execution_count": 1,
   "id": "c759e238",
   "metadata": {
    "scrolled": true
   },
   "outputs": [],
   "source": [
    "def gen(m=50,n=50,min_limit=-250,max_limit=1006):\n",
    "    A = [ [0]*n for i in range(m) ]\n",
    "    for i in range(m):\n",
    "        for j in range(n):\n",
    "            A[i][j] = random.randint(min_limit, max_limit)\n",
    "    return A"
   ]
  },
  {
   "cell_type": "markdown",
   "id": "eacc0817",
   "metadata": {},
   "source": [
    "### Задание №3\n",
    "Реализовать методы сортировки строк числовой матрицы в соответствии с заданием. Оценить время работы каждого алгоритма сортировки и сравнить его со временем стандартной функции сортировки. Испытания проводить на сгенерированных матрицах."
   ]
  },
  {
   "cell_type": "markdown",
   "id": "35a40d17",
   "metadata": {},
   "source": [
    "### Задание №3.1 (Сортировка выбором)"
   ]
  },
  {
   "cell_type": "code",
   "execution_count": 2,
   "id": "ab2cb409",
   "metadata": {},
   "outputs": [],
   "source": [
    "def sel(arr):\n",
    "    for n in range(len(arr)):\n",
    "        i=0\n",
    "        while i < len(arr[0]) - 1:\n",
    "            m = i\n",
    "            j = i + 1\n",
    "            while j < len(arr[0]):\n",
    "                if arr[n][j] < arr[n][m]:\n",
    "                    m = j\n",
    "                j += 1\n",
    "            arr[n][i], arr[n][m] = arr[n][m], arr[n][i]\n",
    "            i += 1\n",
    "    return arr"
   ]
  },
  {
   "cell_type": "markdown",
   "id": "ae94c8e0",
   "metadata": {},
   "source": [
    "### Задание №3.2 (Сортировка вставкой)"
   ]
  },
  {
   "cell_type": "code",
   "execution_count": 3,
   "id": "81518f1f",
   "metadata": {},
   "outputs": [],
   "source": [
    "def insertion(arr):\n",
    "    for n in range(len(arr)):\n",
    "        for i in range(1, len(arr[0])):\n",
    "            key = arr[n][i]\n",
    "            j = i-1\n",
    "            while j >=0 and key < arr[n][j] :\n",
    "                arr[n][j+1] = arr[n][j]\n",
    "                j -= 1\n",
    "            arr[n][j+1] = key \n",
    "    return arr"
   ]
  },
  {
   "cell_type": "markdown",
   "id": "a45ae74c",
   "metadata": {},
   "source": [
    "### Задание №3.3 (Сортировка обменом/Пузырьковая сортировка)"
   ]
  },
  {
   "cell_type": "code",
   "execution_count": 4,
   "id": "d3c9bcdb",
   "metadata": {},
   "outputs": [],
   "source": [
    "def bubble(arr):\n",
    "    for n in range(len(arr)):\n",
    "        i=0\n",
    "        while i < len(arr[0]) - 1:\n",
    "            j = 0\n",
    "            while j < len(arr[0]) - 1 - i:\n",
    "                if arr[n][j] > arr[n][j+1]:\n",
    "                    arr[n][j], arr[n][j+1] = arr[n][j+1], arr[n][j]\n",
    "                j += 1\n",
    "            i += 1\n",
    "    return arr\n"
   ]
  },
  {
   "cell_type": "markdown",
   "id": "edb115ca",
   "metadata": {},
   "source": [
    "### Задание №3.4 (Сортировка Шелла)"
   ]
  },
  {
   "cell_type": "code",
   "execution_count": 5,
   "id": "4178ba3f",
   "metadata": {},
   "outputs": [],
   "source": [
    "def shell(arr):\n",
    "    for n in range(len(arr)):\n",
    "        h = len(arr[0]) // 2\n",
    "        while h > 0:\n",
    "            for m in range(h, len(arr[0])):\n",
    "                val = arr[n][m]\n",
    "                pos = m\n",
    "                while pos >= h and arr[n][pos - h] > val:\n",
    "                    arr[n][pos] = arr[n][pos - h]\n",
    "                    pos -= h\n",
    "                    arr[n][pos] = val\n",
    "            h //= 2\n",
    "    return arr"
   ]
  },
  {
   "cell_type": "markdown",
   "id": "41092a5f",
   "metadata": {},
   "source": [
    "### Задание 3.5 (Турнирная сортировка)"
   ]
  },
  {
   "cell_type": "code",
   "execution_count": 6,
   "id": "2b0e33fd",
   "metadata": {},
   "outputs": [],
   "source": [
    "def tour(arr):\n",
    "        if len(arr)>1:\n",
    "            mid = len(arr)//2\n",
    "            lh = arr[:mid]\n",
    "            rh = arr[mid:]\n",
    "\n",
    "            tour(lh)\n",
    "            tour(rh)\n",
    "\n",
    "            i=0\n",
    "            j=0\n",
    "            k=0\n",
    "            while i<len(lh) and j<len(rh):\n",
    "                if lh[i]<rh[j]:\n",
    "                    arr[k]=lh[i]\n",
    "                    i=i+1\n",
    "                else:\n",
    "                    arr[k]=rh[j]\n",
    "                    j=j+1\n",
    "                k=k+1\n",
    "\n",
    "            while i<len(lh):\n",
    "                arr[k]=lh[i]\n",
    "                i=i+1\n",
    "                k=k+1\n",
    "\n",
    "            while j<len(rh):\n",
    "                arr[k]=rh[j]\n",
    "                j=j+1\n",
    "                k=k+1"
   ]
  },
  {
   "cell_type": "markdown",
   "id": "0f93653b",
   "metadata": {},
   "source": [
    "### Задание 3.6 (Быстрая сортировка)"
   ]
  },
  {
   "cell_type": "code",
   "execution_count": 1,
   "id": "1b021d02",
   "metadata": {},
   "outputs": [],
   "source": [
    "def quick(arr):\n",
    "   if len(arr) <= 1:\n",
    "       return arr\n",
    "   else:\n",
    "       q = random.choice(arr)\n",
    "   l = [n for n in arr if n < q]\n",
    " \n",
    "   e = [q] * arr.count(q)\n",
    "   b = [n for n in arr if n > q]\n",
    "   return quick(l) + e + quick(b)"
   ]
  },
  {
   "cell_type": "markdown",
   "id": "d079a018",
   "metadata": {},
   "source": [
    "### Задание 3.7 (Пирамидальная сортировка)"
   ]
  },
  {
   "cell_type": "code",
   "execution_count": 7,
   "id": "356ff1f7",
   "metadata": {},
   "outputs": [],
   "source": [
    "def heap(arr, n, i):\n",
    "    largest = i\n",
    "    l = 2 * i + 1\n",
    "    r = 2 * i + 2\n",
    "    if l < n and arr[i] < arr[l]:\n",
    "        largest = l\n",
    "    if r < n and arr[largest] < arr[r]:\n",
    "        largest = r\n",
    "    if largest != i:\n",
    "        arr[i],arr[largest] = arr[largest],arr[i]\n",
    "        heap(arr, n, largest)\n",
    "\n",
    "def sort(arr):\n",
    "    n = len(arr)\n",
    "    for i in range(n, -1, -1):\n",
    "        heap(arr, n, i)\n",
    "    for i in range(n-1, 0, -1):\n",
    "        arr[i], arr[0] = arr[0], arr[i]\n",
    "        heap(arr, i, 0)"
   ]
  },
  {
   "cell_type": "markdown",
   "id": "2a19432c",
   "metadata": {},
   "source": [
    "### Вывод"
   ]
  },
  {
   "cell_type": "markdown",
   "id": "cf272f0a",
   "metadata": {},
   "source": [
    "#### Сортировка выбором: лучшее время - O(n^2), худшее O(n^2), время при выполнении - 1.2244019508"
   ]
  },
  {
   "cell_type": "markdown",
   "id": "1a52fac9",
   "metadata": {},
   "source": [
    "#### Сортировка вставками: лучшее время - O(n), худшее O(n^2), время при выполнении - 1.5936298370"
   ]
  },
  {
   "cell_type": "markdown",
   "id": "98227198",
   "metadata": {},
   "source": [
    "#### Сортировка пузырьком: лучшее время - O(n), худшее O(n^2), время при выполнении - 4.9164218902"
   ]
  },
  {
   "cell_type": "markdown",
   "id": "500f3eff",
   "metadata": {},
   "source": [
    "#### Сортировка Шелла: лучшее время - O(nlog^2(n)), худшее O(n^2), время при выполнении - 0.0500540945"
   ]
  },
  {
   "cell_type": "markdown",
   "id": "5ebaff3b",
   "metadata": {},
   "source": [
    "#### Сортировка турнирная: лучшее время - O(nlog(n)), худшее O(nlog(n)), время при выполнении - 0.0400667190"
   ]
  },
  {
   "cell_type": "markdown",
   "id": "394bd043",
   "metadata": {},
   "source": [
    "#### Сортировка быстрая: лучшее время - O(nlog(n)), худшее O(n^2), время при выполнении - 0.0163919925"
   ]
  },
  {
   "cell_type": "markdown",
   "id": "2d6292f0",
   "metadata": {},
   "source": [
    "#### Сортировка пирамидальная: лучшее время - O(nlog(n)), худшее O(nlog(n)), время при выполнении - 0.0261991024"
   ]
  },
  {
   "cell_type": "markdown",
   "id": "3033c45a",
   "metadata": {},
   "source": [
    "#### Сортировка по умолчанию в Python: время при выполнении - 0.0098344837"
   ]
  },
  {
   "cell_type": "markdown",
   "id": "0367e9aa",
   "metadata": {},
   "source": [
    "#### Стандартная сортировка оказалась самой быстрой"
   ]
  }
 ],
 "metadata": {
  "kernelspec": {
   "display_name": "Python 3 (ipykernel)",
   "language": "python",
   "name": "python3"
  },
  "language_info": {
   "codemirror_mode": {
    "name": "ipython",
    "version": 3
   },
   "file_extension": ".py",
   "mimetype": "text/x-python",
   "name": "python",
   "nbconvert_exporter": "python",
   "pygments_lexer": "ipython3",
   "version": "3.9.7"
  }
 },
 "nbformat": 4,
 "nbformat_minor": 5
}
