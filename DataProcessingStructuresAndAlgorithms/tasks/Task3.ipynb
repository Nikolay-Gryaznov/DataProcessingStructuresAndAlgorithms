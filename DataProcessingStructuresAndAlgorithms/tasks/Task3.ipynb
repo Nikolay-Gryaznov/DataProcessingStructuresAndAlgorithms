{
 "cells": [
  {
   "cell_type": "markdown",
   "id": "fifteen-sailing",
   "metadata": {},
   "source": [
    "# Набор заданий №3\n",
    "\n",
    "### Задание 1\n",
    "В Тридевятом Царстве уже много лет как установилась конституционная монархия. В парламент Тридевятого царства входят 26 партий, обозначаемых строчными буквами английского алфавита от «a» до «z». Заседание парламента в соответствии с регламентом проходит по следующей схеме:\n",
    "- В начале заседания никаких законопроектов на повестке дня не стоит.\n",
    "- Любая партия (в том числе и та, которая внесла текущий законопроект) в любой момент времени может внести на обсуждение новый законопроект.\n",
    "- При вносе партией нового законопроекта обсуждение предыдущего приостанавливается и начинается обсуждение нового. После того, как парламентарии голосуют за новый законопроект, обсуждение законопроекта, прерванного им, продолжается.\n",
    "- Дискуссия по любому законопроекту обязана завершиться голосованием по этому законопроекту.\n",
    "- В конце заседания не должно остаться внесённых законопроектов, дискуссия по которым не завершена.\n",
    "\n",
    "Вам дана запись о событиях на сессии парламента. Каждое событие является либо внесением нового законопроекта, либо голосованием за какой-то законопроект, причём в обоих случаях известен номер партии, этот законопроект предложившей. События даны в том порядке, в котором они происходили. Проверьте, может ли данная запись о событиях соответствовать какому-либо заседанию, удовлетворяющему порядку проведения, описанному выше.\n",
    "#### Ввод\n",
    "Первая строка входных данных содержит одно целое число *K* – количество строк в записи сессии (1 ≤ *K* ≤ 1000). Каждая строка соответствует одному из двух событий:\n",
    "\n",
    "- Add *x* – партия x внесла на голосование законопроект.\n",
    "- Vote *x* – прошло голосование за документ, внесённый партией *x*.\n",
    "\n",
    "Здесь *x* – строчная буква английского алфавита от «a» до «z», задающая партию.\n",
    "#### Вывод\n",
    "Выведите «Yes», если существует корректный порядок проведения заседания, который мог привести к такой записи, и «No», если ни при каком корректном порядке проведения заседания данная запись появиться не могла."
   ]
  },
  {
   "cell_type": "code",
   "execution_count": 1,
   "id": "concerned-lewis",
   "metadata": {},
   "outputs": [
    {
     "name": "stdout",
     "output_type": "stream",
     "text": [
      "16\n",
      "['Add a', 'Add n', 'Vote n', 'Vote a', 'Add l', 'Add n', 'Vote n', 'Add k', 'Vote k', 'Add z', 'Add v', 'Vote v', 'Vote z', 'Add c', 'Vote c', 'Vote l']\n",
      "Yes\n"
     ]
    }
   ],
   "source": [
    "import random\n",
    "import string\n",
    "\n",
    "\n",
    "def make_history(stop, history=[]):\n",
    "    party = random.choice(string.ascii_lowercase)\n",
    "    if len(history) > 0:\n",
    "        ind = random.randint(0, len(history))\n",
    "        history.insert(ind, 'Vote ' + party)\n",
    "        history.insert(ind, 'Add ' + party)\n",
    "    else:\n",
    "        history.insert(0, 'Vote ' + party)\n",
    "        history.insert(0, 'Add ' + party)\n",
    "    if len(history) == stop:\n",
    "        return history\n",
    "    else:\n",
    "        return make_history(stop, history)\n",
    "\n",
    "\n",
    "def check_history(history: list):\n",
    "    last_action = None\n",
    "    last_party = None\n",
    "    to_pop = None\n",
    "\n",
    "    if len(history) % 2 == 1:\n",
    "        return 'No'\n",
    "\n",
    "    (action, party) = history[0].split()\n",
    "    if action == 'Vote':\n",
    "        return 'No'\n",
    "\n",
    "    for i in range(1 + len(history) >> 1):\n",
    "\n",
    "        for j in range(len(history)):\n",
    "            (action, party) = history[j].split()\n",
    "\n",
    "            if last_action != None:\n",
    "                if last_action == 'Add' and action == \"Vote\":\n",
    "                    if last_party != party:\n",
    "                        return 'No'\n",
    "                    else:\n",
    "                        to_pop = j\n",
    "                elif len(history) == 2 and last_action == action:\n",
    "                    return 'No'\n",
    "\n",
    "            last_action = action\n",
    "            last_party = party\n",
    "\n",
    "        history.pop(to_pop)\n",
    "        history.pop(to_pop - 1)\n",
    "\n",
    "    return 'Yes'\n",
    "\n",
    "\n",
    "k = (int)(input())\n",
    "\n",
    "if k % 2 == 1:\n",
    "    history = [random.choice(['Add ', 'Vote ']) + random.choice(string.ascii_lowercase)]\n",
    "else:\n",
    "    history = []\n",
    "\n",
    "history = make_history(k, history)\n",
    "\n",
    "print(history)\n",
    "print(check_history(history))"
   ]
  },
  {
   "cell_type": "markdown",
   "id": "controversial-location",
   "metadata": {},
   "source": [
    "### Задача 2. Правильный подмногоугольник\n",
    "\n",
    "Задан правильный *N*-угольник. Требуется выбрать наименьшее количество его вершин, которые также образуют правильный многоугольник.\n",
    "\n",
    "#### Входные данные\n",
    "\n",
    "Входные данные содержат одно целое число *N* (3 ≤ *N* ≤ 1012).\n",
    "\n",
    "#### Вывод\n",
    "\n",
    "Выведите одно число — наименьшее количество вершин заданного многоугольника, которые образуют правильный многоугольник."
   ]
  },
  {
   "cell_type": "code",
   "execution_count": 3,
   "id": "coated-highway",
   "metadata": {},
   "outputs": [
    {
     "name": "stdout",
     "output_type": "stream",
     "text": [
      "35\n",
      "5\n"
     ]
    }
   ],
   "source": [
    "def min_poly(k:int):\n",
    "    for i in range(3, (k + 1) >> 1):\n",
    "        if k % i == 0:\n",
    "            return i\n",
    "    return k\n",
    "\n",
    "k = (int)(input())\n",
    "print(min_poly(k))"
   ]
  },
  {
   "cell_type": "markdown",
   "id": "cordless-fundamentals",
   "metadata": {},
   "source": [
    "### Задача 3.\n",
    "\n",
    "На форуме, на котором обсуждаются задачи олимпиад по информатике, ввели следующий аналог капчи. Участнику выдаётся строка из *N* десятичных цифр (без ведущих нулей). В качестве ответа требуется ввести такое основание системы счисления *B*, что в этой системе счисления выданная запись будет соответствовать составному числу (назовем его *D*), а также число *X*, большее 1 и меньшее *D*, являющееся делителем *D*.\n",
    "\n",
    "При этом *B* и *X* не должны превосходить 10^9.\n",
    "\n",
    "По заданной строке десятичных цифр найдите любую пару чисел *B* и *X*, удовлетворяющую ограничениям, или ответьте, что решения в заданных ограничениях не существует.\n",
    "\n",
    "#### Входные данные\n",
    "\n",
    "Входные данные состоят из непустой строки длиной до 3 ⋅ 106 символов, составленной из цифр от 0 до 9 и не начинающейся с 0.\n",
    "\n",
    "#### Вывод\n",
    "\n",
    "Если решение существует, выведите два числа – основание системы счисления *B* и делитель *X*, записанные в десятичной системе счисления. Оба числа должны удовлетворять ограничениям 2 ≤ *B*, *X* ≤ 10^9. Если решения не существует, выведите –1."
   ]
  },
  {
   "cell_type": "code",
   "execution_count": 14,
   "id": "jewish-rocket",
   "metadata": {
    "scrolled": true
   },
   "outputs": [
    {
     "name": "stdout",
     "output_type": "stream",
     "text": [
      "65423\n",
      "[7, 8167]\n",
      "\n",
      "19\n",
      "[11, 5]\n"
     ]
    }
   ],
   "source": [
    "def to_arr(num):\n",
    "    nums_arr = []\n",
    "    while num > 0:\n",
    "        nums_arr.insert(0, num % 10)\n",
    "        num = num // 10\n",
    "    return nums_arr\n",
    "\n",
    "\n",
    "def minimal_divider(num):\n",
    "    t = num\n",
    "    for i in range(2, 10):\n",
    "        while num % i == 0 and num != i:\n",
    "            num = num // i\n",
    "    if num != t:\n",
    "        return num\n",
    "    return -1\n",
    "\n",
    "\n",
    "def convert_decimal(nums_arr, frm):\n",
    "    converted_num = 0\n",
    "    for i in range(len(nums_arr)):\n",
    "        converted_num += nums_arr[i] * (frm ** (len(nums_arr) - i - 1))\n",
    "    return converted_num\n",
    "\n",
    "\n",
    "def captcha(num):\n",
    "    nums_arr = to_arr(num)\n",
    "    max_num = max(nums_arr)\n",
    "\n",
    "    if len(nums_arr) == 1:\n",
    "        minimal_div = minimal_divider(num)\n",
    "        if (minimal_div == -1):\n",
    "            return -1\n",
    "        else:\n",
    "            return [10, minimal_div]\n",
    "\n",
    "    for i in range(max_num + 1, 10 ** 9):\n",
    "        converted_num = convert_decimal(nums_arr, i)\n",
    "        minimal_div = minimal_divider(converted_num)\n",
    "        if (minimal_div > 1):\n",
    "            return [i, minimal_div]\n",
    "    return -1\n",
    "\n",
    "\n",
    "num = random.randint(1, 10 ** 5)\n",
    "print(num)\n",
    "print(captcha(num))\n",
    "print()\n",
    "\n",
    "print(19)\n",
    "print(captcha(19))"
   ]
  }
 ],
 "metadata": {
  "kernelspec": {
   "display_name": "Python 3 (ipykernel)",
   "language": "python",
   "name": "python3"
  },
  "language_info": {
   "codemirror_mode": {
    "name": "ipython",
    "version": 3
   },
   "file_extension": ".py",
   "mimetype": "text/x-python",
   "name": "python",
   "nbconvert_exporter": "python",
   "pygments_lexer": "ipython3",
   "version": "3.9.7"
  }
 },
 "nbformat": 4,
 "nbformat_minor": 5
}
